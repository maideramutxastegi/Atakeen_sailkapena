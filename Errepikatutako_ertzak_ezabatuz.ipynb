{
  "cells": [
    {
      "cell_type": "markdown",
      "metadata": {
        "id": "owMUhlsxLSKC"
      },
      "source": [
        "# **Atakeen sailkapena konputagailuen arteko komunikazioetan grafo egiturak erabiliz, errepikatutako ertzak ezabatuz**"
      ]
    },
    {
      "cell_type": "markdown",
      "metadata": {
        "id": "_jffC_yGNxlO"
      },
      "source": [
        "Beharko ditugun liburutegiak:"
      ]
    },
    {
      "cell_type": "code",
      "execution_count": 3,
      "metadata": {
        "id": "BQErCTsnr44t"
      },
      "outputs": [],
      "source": [
        "from google.colab import drive\n",
        "import numpy as np\n",
        "import pandas as pd\n",
        "from scipy import stats\n",
        "from typing import List, Tuple\n",
        "from sklearn import metrics, linear_model\n",
        "import matplotlib.pyplot as plt\n",
        "import torch\n",
        "import torch.nn as nn\n",
        "import torch.nn.functional as F\n",
        "from torch.utils.data import TensorDataset, DataLoader\n",
        "import warnings\n",
        "warnings.filterwarnings(\"ignore\", category=UserWarning)\n",
        "import networkx as nx\n",
        "import os\n",
        "from scipy.linalg import fractional_matrix_power\n",
        "import csv\n",
        "import math\n",
        "from sklearn.preprocessing import MinMaxScaler\n",
        "import tensorflow as tf\n",
        "os.environ['TORCH'] = torch.__version__\n",
        "os.environ['PYTHONWARNINGS'] = \"ignore\"\n",
        "from torch_geometric.nn import GCNConv\n",
        "import torch.nn.functional as F\n",
        "from torch.nn import Linear"
      ]
    },
    {
      "cell_type": "markdown",
      "source": [
        "Instalatu beharrekoak:"
      ],
      "metadata": {
        "id": "04ASdoxK4nBg"
      }
    },
    {
      "cell_type": "code",
      "source": [
        "!pip install torch_geometric\n",
        "!pip install pandas\n",
        "!pip install numpy\n",
        "!pip install scipy==1.8.0\n",
        "!pip install networkx"
      ],
      "metadata": {
        "id": "sdrjZjUSGu3A"
      },
      "execution_count": null,
      "outputs": []
    },
    {
      "cell_type": "markdown",
      "metadata": {
        "id": "WnWuX9a2sIRd"
      },
      "source": [
        "## **Datuak kargatzen**"
      ]
    },
    {
      "cell_type": "code",
      "execution_count": 4,
      "metadata": {
        "colab": {
          "base_uri": "https://localhost:8080/"
        },
        "id": "VQDwk3xkPFf7",
        "outputId": "4021655b-56c3-42e0-e40a-d4a7d318db3b"
      },
      "outputs": [
        {
          "output_type": "stream",
          "name": "stdout",
          "text": [
            "Mounted at /content/drive\n"
          ]
        }
      ],
      "source": [
        "drive.mount('/content/drive')"
      ]
    },
    {
      "cell_type": "markdown",
      "metadata": {
        "id": "z8NzL5UBCqnV"
      },
      "source": [
        "## **CSV-ak irakurri eta bakar batean elkartu**"
      ]
    },
    {
      "cell_type": "markdown",
      "source": [
        "BETH datu-multzoa CSV desberdinetan banatuta dago. Beraz, taula hauek batean batu behar dira."
      ],
      "metadata": {
        "id": "2UxT6VguvLzE"
      }
    },
    {
      "cell_type": "code",
      "execution_count": 5,
      "metadata": {
        "id": "sThxEdchtsLP"
      },
      "outputs": [],
      "source": [
        "path = '/content/drive/MyDrive/GrAL/DATUAK/ELKARTZEKO'\n",
        "files = [os.path.join(path, file) for file in os.listdir(path)]\n",
        "taula = pd.concat(map(pd.read_csv, files), ignore_index=True)\n",
        "originala = pd.concat(map(pd.read_csv, files), ignore_index=True)"
      ]
    },
    {
      "cell_type": "markdown",
      "metadata": {
        "id": "MHPz09hspIAD"
      },
      "source": [
        "##**CSV-a moldatu**"
      ]
    },
    {
      "cell_type": "markdown",
      "source": [
        "Bi taula desberdin erabiliko dira, taula originala, aldaketarik gabekoa, eta moldatutako taula, honek datuak aurreprozesatuta gordeko ditu."
      ],
      "metadata": {
        "id": "hwyD1idZvOpT"
      }
    },
    {
      "cell_type": "code",
      "execution_count": 6,
      "metadata": {
        "id": "JSOh7zDz2EW0"
      },
      "outputs": [],
      "source": [
        "taula = taula[[\"processId\", \"parentProcessId\", \"userId\", \"eventId\", \"argsNum\", \"returnValue\", \"evil\"]]\n",
        "originala = originala[[\"processId\", \"parentProcessId\", \"userId\", \"eventId\", \"argsNum\", \"returnValue\", \"evil\"]]\n",
        "\n",
        "# Preprocessing\n",
        "taula[\"processId\"] = taula[\"processId\"].map(lambda x: 1 if x in [0, 1, 2] else 0)\n",
        "taula[\"parentProcessId\"] = taula[\"parentProcessId\"].map(lambda x: 1 if x in [0, 1, 2] else 0)\n",
        "taula[\"userId\"] = taula[\"userId\"].map(lambda x: 1 if x < 1000 else 0)\n",
        "taula[\"eventId\"] = taula[\"eventId\"]\n",
        "taula[\"argsNum\"] = taula[\"argsNum\"]\n",
        "taula[\"returnValue\"] = taula[\"returnValue\"].map(lambda x: 0 if x == 0 else (1 if x > 0 else 2))\n",
        "\n",
        "# CSV berriak sortu\n",
        "taula.to_csv('dataset.csv')\n",
        "originala.to_csv('orig_dataset.csv')"
      ]
    },
    {
      "cell_type": "markdown",
      "metadata": {
        "id": "59zBpnRA4Fbg"
      },
      "source": [
        "## **Ezaugarrien zerrenda prestatzeko**"
      ]
    },
    {
      "cell_type": "code",
      "execution_count": 8,
      "metadata": {
        "id": "gUxQasEw1xv8"
      },
      "outputs": [],
      "source": [
        "# Aurre-prozesatua\n",
        "with open('/content/dataset.csv',newline='') as f:\n",
        "    r = csv.reader(f)\n",
        "    data = [line for line in r]\n",
        "\n",
        "# Originala\n",
        "with open('/content/orig_dataset.csv',newline='') as f:\n",
        "    r2 = csv.reader(f)\n",
        "    data_orig = [line for line in r2]"
      ]
    },
    {
      "cell_type": "code",
      "execution_count": 9,
      "metadata": {
        "id": "h0kvGleu4zwv"
      },
      "outputs": [],
      "source": [
        "#Initialize the graph\n",
        "G = nx.DiGraph(name='G')   # Zuzendua"
      ]
    },
    {
      "cell_type": "code",
      "execution_count": 10,
      "metadata": {
        "id": "QMk9XQYkw0EM"
      },
      "outputs": [],
      "source": [
        "# EZAUGARRIEN ZERRENDA\n",
        "nodoak = []\n",
        "ezaugarriak = []\n",
        "\n",
        "for i in range(1, len(data_orig)):\n",
        "\n",
        "  if int(data_orig[i][1]) in nodoak:\n",
        "    ind = nodoak.index(int(data_orig[i][1]))\n",
        "\n",
        "    if (ezaugarriak[ind][1]==-1000.0):\n",
        "      ezaugarriak[ind][0] = 1.0\n",
        "      ezaugarriak[ind][1] = float(data[i][1])\n",
        "      ezaugarriak[ind][2] = float(data[i][2])\n",
        "      ezaugarriak[ind][3] = float(data[i][3])\n",
        "      ezaugarriak[ind][4] = float(data[i][4])\n",
        "      ezaugarriak[ind][5] = float(data[i][5])\n",
        "      ezaugarriak[ind][6] = float(data[i][6])\n",
        "\n",
        "    else:\n",
        "      ezaugarriak[ind][0] = ezaugarriak[ind][0]+1\n",
        "      if data[i][1]=='1':\n",
        "        ezaugarriak[ind][1] = 1.0\n",
        "      elif data[i][2]=='1':\n",
        "        ezaugarriak[ind][2] = 1.0\n",
        "      elif data[i][3]=='1':\n",
        "        ezaugarriak[ind][3] = 1.0\n",
        "\n",
        "      #ezaugarriak[ind][4]\n",
        "      ezaugarriak[ind][5] = ezaugarriak[ind][5] + float(data[i][5])\n",
        "\n",
        "      # Ezaugarri hau returnValue da, eta aurreprozesatuta dago. 0, 1 edo 2 balioak ditu.\n",
        "      ezaugarriak[ind][6] = ezaugarriak[ind][6] + float(data[i][6])\n",
        "\n",
        "\n",
        "  if not int(data_orig[i][1]) in nodoak:\n",
        "    nodoak.append(int(data_orig[i][1]))\n",
        "    ezaugarriak.append([1.0, float(data[i][1]), float(data[i][2]), float(data[i][3]), float(data[i][4]), float(data[i][5]), float(data[i][6])])\n",
        "\n",
        "  if not int(data_orig[i][2]) in nodoak:\n",
        "    nodoak.append(int(data_orig[i][2]))\n",
        "    ezaugarriak.append([0.0, -1000.0, -1000.0, -1000.0, -1000.0, -1000.0, -1000.0])   # \"-inf\"-ekin erabili ostian, erroreak NaN delako infinito, visualize egitean erroreak.\n"
      ]
    },
    {
      "cell_type": "code",
      "execution_count": 11,
      "metadata": {
        "id": "MWALwtIaw0LQ"
      },
      "outputs": [],
      "source": [
        "# Batezbestekoa kalkulatzeko (ahal den aldagaietan)\n",
        "for i in range(0, len(ezaugarriak)):\n",
        "  if (ezaugarriak[i][0] > 1):\n",
        "    ezaugarriak[i][5] = ezaugarriak[i][5]/ezaugarriak[i][0]\n",
        "\n",
        "    # Ezaugarri hau returnValue da, eta aurreprozesatuta dago. 0, 1 edo 2 balioak ditu.\n",
        "    ezaugarriak[i][6] = ezaugarriak[i][6]/ezaugarriak[i][0]"
      ]
    },
    {
      "cell_type": "code",
      "execution_count": 12,
      "metadata": {
        "id": "-cYvHbIJw-OT"
      },
      "outputs": [],
      "source": [
        "kop = 0\n",
        "\n",
        "# GRAFOA\n",
        "for i in range(1, len(data_orig)):\n",
        "\n",
        "  if not G.has_node(data_orig[i][2]):   # Parent\n",
        "    G.add_node(data_orig[i][2], name=kop, evil=data[i][7])   #ezaugarriak adierazteko\n",
        "    kop = kop+1\n",
        "  else:\n",
        "    if data[i][7]=='1':\n",
        "      G.nodes[data_orig[i][2]][\"evil\"] = '1'\n",
        "\n",
        "  if not G.has_node(data_orig[i][1]):   # Child\n",
        "    G.add_node(data_orig[i][1], name=kop, evil='0')   #ezaugarriak adierazteko\n",
        "    kop = kop+1\n",
        "\n",
        "  G.add_edge(data_orig[i][2], data_orig[i][1])"
      ]
    },
    {
      "cell_type": "markdown",
      "metadata": {
        "id": "Z5tRmroQW4p8"
      },
      "source": [
        "# **`Data` motako objektuak**"
      ]
    },
    {
      "cell_type": "markdown",
      "metadata": {
        "id": "KAbCIOuTRHmD"
      },
      "source": [
        "Orain arte, grafoak **`DiGraph`** motatako objektuak dira, baina neurona-sarean grafoak entrenatzeko zein testeatzeko PyTorch Geometric liburutegiarekin bateragarria den grafo mota behar da. PyTorch Geometric-en, grafoak **`Data`** izeneko objektuetan errepresentatzen dira, honako ezaugarriekin:"
      ]
    },
    {
      "cell_type": "markdown",
      "metadata": {
        "id": "Na1xbD6UZdMs"
      },
      "source": [
        "#### **x**\n",
        "Grafoaren ezaugarri-matrizea da (hau da, grafoaren nodo bakoitzeko ezaugarriez osatutako zutabeak dituen matrizea).\n",
        "\n",
        "**shape** `[num_nodes, num_node_features]`"
      ]
    },
    {
      "cell_type": "code",
      "source": [
        "scaler = MinMaxScaler()\n",
        "new_x = scaler.fit_transform(ezaugarriak)\n",
        "x = torch.tensor(new_x, dtype=torch.float)\n",
        "x.size()"
      ],
      "metadata": {
        "id": "E7RhMhWjVYPB",
        "colab": {
          "base_uri": "https://localhost:8080/"
        },
        "outputId": "8415f9c6-1cf0-40ed-81e8-9ffd4ab5f76b"
      },
      "execution_count": 13,
      "outputs": [
        {
          "output_type": "execute_result",
          "data": {
            "text/plain": [
              "torch.Size([1799, 7])"
            ]
          },
          "metadata": {},
          "execution_count": 13
        }
      ]
    },
    {
      "cell_type": "markdown",
      "metadata": {
        "id": "mgX9dWogZTWR"
      },
      "source": [
        "#### **edge_index**\n",
        "Grafoaren konektibitate-matrizea da, COO formatuan. Konektatuta dauden nodoen zerrenda bakarrik gordetzen da, grafoaren auzokide matrize osoa gorde beharrean.\n",
        "\n",
        "**shape** `[2, num_edges]`"
      ]
    },
    {
      "cell_type": "code",
      "execution_count": 14,
      "metadata": {
        "colab": {
          "base_uri": "https://localhost:8080/"
        },
        "id": "hszHA8e9WZEE",
        "outputId": "d5b86e9b-b9a0-4152-d6d9-e8ae08afff21"
      },
      "outputs": [
        {
          "output_type": "stream",
          "name": "stdout",
          "text": [
            "Edge index:  tensor([[   0,    0,    0,  ..., 1792, 1794, 1797],\n",
            "        [   1,    5,    6,  ..., 1793, 1795, 1798]])\n"
          ]
        },
        {
          "output_type": "execute_result",
          "data": {
            "text/plain": [
              "torch.Size([2, 4466])"
            ]
          },
          "metadata": {},
          "execution_count": 14
        }
      ],
      "source": [
        "# Nodo guztien zerrenda lortzeko\n",
        "nodo = []\n",
        "for i in range(0, len(list(G.nodes.data()))):\n",
        "  nodo.append(list(G.nodes.data())[i][0])\n",
        "  nodo.append(int(list(G.nodes.data())[i][1][\"name\"]))\n",
        "\n",
        "\n",
        "# Grafoaren ertz guztien zerrenda lortzeko\n",
        "ertzak = []\n",
        "for i in range(0, len(list(G.edges))):\n",
        "  ind_guraso = nodo.index(list(G.edges)[i][0])\n",
        "  ind_ume = nodo.index(list(G.edges)[i][1])\n",
        "  ertzak.append([nodo[ind_guraso+1], nodo[ind_ume+1]])\n",
        "\n",
        "\n",
        "# edge_index tensore bat denez, eraldatu\n",
        "matrix = np.transpose(ertzak)\n",
        "\n",
        "edge_index = torch.tensor(matrix)\n",
        "print(\"Edge index: \", edge_index)\n",
        "edge_index.size()"
      ]
    },
    {
      "cell_type": "markdown",
      "metadata": {
        "id": "6VH-EUlAhuvr"
      },
      "source": [
        "#### **y**\n",
        "Nodo bakoitzaren etiketa-matrizea da (bi klasetatik nodo bakoitza zeini dagokion adieraziko du)."
      ]
    },
    {
      "cell_type": "code",
      "execution_count": 15,
      "metadata": {
        "id": "iLkULPKvZN9t"
      },
      "outputs": [],
      "source": [
        "matrix = []\n",
        "for i in range(0, len(list(G.nodes.data()))):\n",
        "  matrix.append(int(list(G.nodes.data())[i][1]['evil']))\n",
        "\n",
        "y = torch.tensor(matrix)"
      ]
    },
    {
      "cell_type": "code",
      "execution_count": 16,
      "metadata": {
        "colab": {
          "base_uri": "https://localhost:8080/"
        },
        "id": "upaexG74z_wE",
        "outputId": "0507af04-4c39-4cfd-b232-605560fd8a6f"
      },
      "outputs": [
        {
          "output_type": "stream",
          "name": "stdout",
          "text": [
            "Kopurua:  14\n",
            "Indizeak:  [0, 277, 279, 368, 376, 449, 451, 453, 455, 458, 466, 904, 931, 1285]\n"
          ]
        }
      ],
      "source": [
        "# Zenbat nodo erasotzaile dauden guztira eta indizeak\n",
        "kont = 0\n",
        "indizeak = []\n",
        "for k in range(0, len(y)):\n",
        "  if (y[k]==1):\n",
        "    indizeak.append(k)\n",
        "    kont = kont+1\n",
        "\n",
        "print(\"Kopurua: \", kont)\n",
        "print(\"Indizeak: \", indizeak)"
      ]
    },
    {
      "cell_type": "markdown",
      "metadata": {
        "id": "dzDttawMU6Oq"
      },
      "source": [
        "#### **Data objektua sortzeko**"
      ]
    },
    {
      "cell_type": "code",
      "execution_count": 18,
      "metadata": {
        "id": "v9fPMAUOSzcR"
      },
      "outputs": [],
      "source": [
        "# Data objektua sortzen\n",
        "from torch_geometric.data import Data\n",
        "\n",
        "data = Data(x=x, edge_index=edge_index, y=y)"
      ]
    },
    {
      "cell_type": "code",
      "execution_count": 19,
      "metadata": {
        "id": "rCOqP3KVs4_A"
      },
      "outputs": [],
      "source": [
        "# train_mask lortzeko\n",
        "# Entrenamendu-multzoan dataseteko zein nodo dauden adierazten duen matrize bitarra da.\n",
        "a = np.zeros(718)\n",
        "b = np.ones(1081)\n",
        "data.train_mask = torch.tensor(np.concatenate((a,b)), dtype=torch.bool)\n",
        "\n",
        "# test_mask lortzeko\n",
        "# Proba-multzoan dataseteko zein nodo dauden adierazten duen matrize bitarra da.\n",
        "c = np.ones(718)\n",
        "d = np.zeros(1081)\n",
        "data.test_mask = torch.tensor(np.concatenate((c,d)), dtype=torch.bool)"
      ]
    },
    {
      "cell_type": "code",
      "execution_count": 20,
      "metadata": {
        "colab": {
          "base_uri": "https://localhost:8080/"
        },
        "id": "XqYxYhWlgzx6",
        "outputId": "8f33cdc7-126e-45ab-8281-db2894a3f2ae"
      },
      "outputs": [
        {
          "output_type": "stream",
          "name": "stdout",
          "text": [
            "Nodoen ezaugarri kopurua:  7\n",
            "Data:  Data(x=[1799, 7], edge_index=[2, 4466], y=[1799], train_mask=[1799], test_mask=[1799])\n",
            "Nodo kopurua:  1799\n",
            "Ertz kopurua:  4466\n"
          ]
        }
      ],
      "source": [
        "# Data objektuaren ezaugarriak\n",
        "print(\"Nodoen ezaugarri kopurua: \", data.num_features)\n",
        "print(\"Data: \", data)\n",
        "print(\"Nodo kopurua: \", data.num_nodes)\n",
        "print(\"Ertz kopurua: \", data.num_edges)"
      ]
    },
    {
      "cell_type": "markdown",
      "metadata": {
        "id": "PtplRFVFC8QZ"
      },
      "source": [
        "## **GCN EREDUA**"
      ]
    },
    {
      "cell_type": "markdown",
      "metadata": {
        "id": "9lm11c27jxze"
      },
      "source": [
        "GCN eredua sortzen da, lau GCNConv geruzarekin."
      ]
    },
    {
      "cell_type": "code",
      "execution_count": 21,
      "metadata": {
        "id": "MSRYtVFNDBe9"
      },
      "outputs": [],
      "source": [
        "class GCN(torch.nn.Module):\n",
        "\n",
        "    def __init__(self, hidden_channels, num_features, num_classes):\n",
        "        # __init__()-en, klase nagusira deitu behar da bigarren klaseari esleipenak egin aurretik.\n",
        "        super().__init__()\n",
        "\n",
        "        # Ausazko zenbakiak sortzeko hazia ezartzen du. torch.Generator motako objektua itzultzen du.\n",
        "        # PyTorchen ausazkotasuna kontrolatzen laguntzen duen funtzioa da.\n",
        "        torch.manual_seed(42)\n",
        "\n",
        "        # INITIALIZING THE LAYERS\n",
        "        # Lehenengo, GCN geruza kopurua definitzen da.\n",
        "        # Kasu honetan, Message Passing-a burutzeko lau geruza ditu.\n",
        "        # GCN layers (message passing layers)\n",
        "        self.conv1 = GCNConv(num_features, hidden_channels)     # Lehenengo geruza\n",
        "        self.conv2 = GCNConv(hidden_channels, hidden_channels)      # Bigarren geruza\n",
        "        self.conv3 = GCNConv(hidden_channels, hidden_channels)      # Hirugarren geruza\n",
        "        self.conv4 = GCNConv(hidden_channels, hidden_channels)      # Laugarren geruza\n",
        "\n",
        "        # Transformazio lineal bakarra aplikatzen da (torch.nn.Linear), eta honek, sailkatzaile gisa jarduten du (nodoak 0 edo 1 klasean sailkatzeko).\n",
        "        # Output layer, sailkatzailea\n",
        "        self.out = Linear(hidden_channels, num_classes)\n",
        "\n",
        "\n",
        "    # Sarearen konputazio-fluxua definitzeko (forward)\n",
        "    def forward(self, x, edge_index):\n",
        "        h = self.conv1(x, edge_index).relu()      # Lehenengo Message Passing Layer\n",
        "        h = self.conv2(h, edge_index).relu()      # Bigarren Message Passing Layer\n",
        "        h = self.conv3(h, edge_index).relu()      # Hirugarren Message Passing Layer\n",
        "        h = self.conv4(h, edge_index).relu()      # Laugarren Message Passing Layer\n",
        "        out = self.out(h)\n",
        "        return out, h\n"
      ]
    },
    {
      "cell_type": "code",
      "execution_count": 23,
      "metadata": {
        "id": "8btvAWZfmu1B"
      },
      "outputs": [],
      "source": [
        "# num_features --> Nodoen ezaugarri kopurua (data.num_features)\n",
        "# num_classes = 2 (Erasoa edo ez, hau da, nodo bat erasotzailea den edo ez)\n",
        "# Ereduak 16 kanal ezkutu izango ditu.\n",
        "model = GCN(hidden_channels=16, num_features=7, num_classes=2)\n",
        "\n",
        "# Sare-arkitektura definitzeaz gain, CrossEntropyLoss funtzioa definitzen da, eta Adam optimizatzailea hasieratzen da.\n",
        "optimizer = torch.optim.Adam(model.parameters(), lr=0.01)\n",
        "criterion = torch.nn.CrossEntropyLoss()\n",
        "\n",
        "def train():\n",
        "\n",
        "      # model.train() funtzioak, eredua entrenatzen ari dela adierazten du, hau da, ez du eredua entrenatzen, baizik eta modua ezartzen du. Honek, Dropout\n",
        "      # eta BatchNorm bezalako geruzak informatzen laguntzen du, entrenamenduan eta ebaluazioan desberdin jokatzeko diseinatuta baitaude.\n",
        "      # Adibidez, entrenamendu-moduan, BatchNorm-ek batezbesteko mugikor bat eguneratzen du lote berri bakoitzean; ebaluaziorako, berriz, eguneratze horiek\n",
        "      # izoztuta daude.\n",
        "      model.train()\n",
        "\n",
        "      for epoch in range(10):\n",
        "        optimizer.zero_grad()  # Gradienteak zeroan jarri\n",
        "        out, h = model(data.x, data.edge_index)  # Forward urrats bat aplikatu\n",
        "        loss = criterion(out[data.train_mask], data.y[data.train_mask])  # Galera kalkulatzen da soilik entrenamendu-nodoetan oinarrituta\n",
        "        loss.backward()  # Gradienteak deribatu\n",
        "        optimizer.step()  # Gradienteetan oinarritutako parametroak eguneratzen dira\n",
        "\n",
        "      pred = out.argmax(dim=1)  # Probabilitate handiena duen klasea erabiltzen da\n",
        "      train_correct = pred[data.train_mask] == data.y[data.train_mask]  # Entrenamenduan ongi sailkatutako nodo kopurua\n",
        "      train_acc = int(train_correct.sum()) / int(data.train_mask.sum())  # Accuracy-a\n",
        "\n",
        "      return pred[data.train_mask], data.y[data.train_mask], train_correct.sum(), train_acc\n",
        "\n",
        "def test():\n",
        "      model.eval()      # model.eval() erabiltzean ereduari adierazten zaio ez dela ezer berririk ikasi behar, eta eredua probatzeko erabiltzen da.\n",
        "      out, h = model(data.x, data.edge_index)\n",
        "      pred = out.argmax(dim=1)  # Probabilitate handiena duen klasea erabiltzen da\n",
        "      test_correct = pred[data.test_mask] == data.y[data.test_mask]  # Ongi sailkatutako nodo kopurua\n",
        "      test_acc = int(test_correct.sum()) / int(data.test_mask.sum())  # Accuracy-a\n",
        "      return pred[data.test_mask], data.y[data.test_mask], test_correct.sum(), test_acc"
      ]
    },
    {
      "cell_type": "markdown",
      "source": [
        "#### **TRAIN**"
      ],
      "metadata": {
        "id": "7wg9vANw57v5"
      }
    },
    {
      "cell_type": "code",
      "execution_count": 24,
      "metadata": {
        "id": "5n1fbY2h7jvy"
      },
      "outputs": [],
      "source": [
        "# Eredua entrenatzen da\n",
        "pred, actual, train_correct, train_acc = train()"
      ]
    },
    {
      "cell_type": "code",
      "execution_count": 25,
      "metadata": {
        "colab": {
          "base_uri": "https://localhost:8080/",
          "height": 449
        },
        "id": "vPmRDsF99oha",
        "outputId": "2eded13c-1834-4b32-e8e0-c991a525cd0f"
      },
      "outputs": [
        {
          "output_type": "display_data",
          "data": {
            "text/plain": [
              "<Figure size 640x480 with 2 Axes>"
            ],
            "image/png": "[encoded data removed]"
          },
          "metadata": {}
        }
      ],
      "source": [
        "# Entrenamenduaren konfusio-matrizea\n",
        "# True Negative (Top-Left Quadrant)\n",
        "# False Positive (Top-Right Quadrant)\n",
        "# False Negative (Bottom-Left Quadrant)\n",
        "# True Positive (Bottom-Right Quadrant)\n",
        "\n",
        "confusion_matrix = metrics.confusion_matrix(actual, pred)\n",
        "cm_display = metrics.ConfusionMatrixDisplay(confusion_matrix = confusion_matrix, display_labels = [False, True])\n",
        "cm_display.plot()\n",
        "plt.show()"
      ]
    },
    {
      "cell_type": "code",
      "source": [
        "# Precision balioek adierazten dute negatibotzat, edo 0 klasean, sailkatu diren datuen artetik zenbat sailkatu direla ondo, eta positibotzat, edo 1 klasean,\n",
        "# sailkatu diren datuen artetik zenbat sailkatu direla ondo.\n",
        "metrics.precision_score(actual, pred, average=None)"
      ],
      "metadata": {
        "colab": {
          "base_uri": "https://localhost:8080/"
        },
        "id": "LX0XQWeoXnF1",
        "outputId": "cbc6a774-d1e2-4c8a-cf64-bd71d4237995"
      },
      "execution_count": null,
      "outputs": [
        {
          "output_type": "execute_result",
          "data": {
            "text/plain": [
              "array([0.99722479, 0.        ])"
            ]
          },
          "metadata": {},
          "execution_count": 31
        }
      ]
    },
    {
      "cell_type": "code",
      "source": [
        "# Recall balioek adierazten dute ereduak egiazko negatiboak eta egiazko positiboak identifikatzeko gaitasuna.\n",
        "metrics.recall_score(actual, pred, average=None)"
      ],
      "metadata": {
        "colab": {
          "base_uri": "https://localhost:8080/"
        },
        "id": "pOCvkAr_Xn_0",
        "outputId": "fe1017f2-1032-4e25-cb87-cf76e871ebb2"
      },
      "execution_count": null,
      "outputs": [
        {
          "output_type": "execute_result",
          "data": {
            "text/plain": [
              "array([1., 0.])"
            ]
          },
          "metadata": {},
          "execution_count": 32
        }
      ]
    },
    {
      "cell_type": "code",
      "source": [
        "# F1 balioak\n",
        "metrics.f1_score(actual, pred, average=None)"
      ],
      "metadata": {
        "colab": {
          "base_uri": "https://localhost:8080/"
        },
        "id": "bEga_pYSIqEC",
        "outputId": "06d79cf3-4ac8-4b97-ad08-c1b3f1803e88"
      },
      "execution_count": 26,
      "outputs": [
        {
          "output_type": "execute_result",
          "data": {
            "text/plain": [
              "array([0.99861047, 0.        ])"
            ]
          },
          "metadata": {},
          "execution_count": 26
        }
      ]
    },
    {
      "cell_type": "markdown",
      "source": [
        "#### **TEST**"
      ],
      "metadata": {
        "id": "G91p6kQb6Gp2"
      }
    },
    {
      "cell_type": "code",
      "execution_count": 27,
      "metadata": {
        "colab": {
          "base_uri": "https://localhost:8080/",
          "height": 451
        },
        "id": "iyCQXOW99nxn",
        "outputId": "bbd13c58-002d-42ad-d5e8-f3afc003877a"
      },
      "outputs": [
        {
          "output_type": "display_data",
          "data": {
            "text/plain": [
              "<Figure size 640x480 with 2 Axes>"
            ],
            "image/png": "[encoded data removed]"
          },
          "metadata": {}
        }
      ],
      "source": [
        "# Eredua probatzen da\n",
        "pred, actual, test_correct, test_acc = test()\n",
        "\n",
        "# Test-aren konfusio-matrizea\n",
        "confusion_matrix = metrics.confusion_matrix(actual, pred)\n",
        "cm_display = metrics.ConfusionMatrixDisplay(confusion_matrix = confusion_matrix, display_labels = [False, True])\n",
        "cm_display.plot()\n",
        "plt.show()"
      ]
    },
    {
      "cell_type": "code",
      "source": [
        "# Precision balioak\n",
        "metrics.precision_score(actual, pred, average=None)"
      ],
      "metadata": {
        "colab": {
          "base_uri": "https://localhost:8080/"
        },
        "id": "LvpddFXUYHsn",
        "outputId": "1cabef0a-88cf-479a-c72a-8de384f26b3b"
      },
      "execution_count": null,
      "outputs": [
        {
          "output_type": "execute_result",
          "data": {
            "text/plain": [
              "array([0.98467967, 0.        ])"
            ]
          },
          "metadata": {},
          "execution_count": 36
        }
      ]
    },
    {
      "cell_type": "code",
      "source": [
        "# Recall balioak\n",
        "metrics.recall_score(actual, pred, average=None)"
      ],
      "metadata": {
        "colab": {
          "base_uri": "https://localhost:8080/"
        },
        "id": "jcjzoxBfYHyS",
        "outputId": "8bb4bcc9-cd2d-45e0-defb-2b7a5cc3f8c4"
      },
      "execution_count": null,
      "outputs": [
        {
          "output_type": "execute_result",
          "data": {
            "text/plain": [
              "array([1., 0.])"
            ]
          },
          "metadata": {},
          "execution_count": 37
        }
      ]
    },
    {
      "cell_type": "code",
      "source": [
        "# F1 balioak\n",
        "metrics.f1_score(actual, pred, average=None)"
      ],
      "metadata": {
        "colab": {
          "base_uri": "https://localhost:8080/"
        },
        "id": "oOyZc3_aJEvv",
        "outputId": "8d739f4b-e9af-4f4e-881f-7e8f1a88c0b4"
      },
      "execution_count": null,
      "outputs": [
        {
          "output_type": "execute_result",
          "data": {
            "text/plain": [
              "array([0.9922807, 0.       ])"
            ]
          },
          "metadata": {},
          "execution_count": 38
        }
      ]
    }
  ],
  "metadata": {
    "colab": {
      "provenance": []
    },
    "kernelspec": {
      "display_name": "Python 3",
      "name": "python3"
    },
    "language_info": {
      "name": "python"
    }
  },
  "nbformat": 4,
  "nbformat_minor": 0
}
