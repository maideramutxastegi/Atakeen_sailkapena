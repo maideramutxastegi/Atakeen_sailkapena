{
  "nbformat": 4,
  "nbformat_minor": 0,
  "metadata": {
    "colab": {
      "provenance": []
    },
    "kernelspec": {
      "name": "python3",
      "display_name": "Python 3"
    },
    "language_info": {
      "name": "python"
    }
  },
  "cells": [
    {
      "cell_type": "markdown",
      "metadata": {
        "id": "owMUhlsxLSKC"
      },
      "source": [
        "# **Atakeen sailkapena konputagailuen arteko komunikazioetan grafo egiturak erabiliz, train-erako hainbat grafo erabilita**"
      ]
    },
    {
      "cell_type": "markdown",
      "metadata": {
        "id": "_jffC_yGNxlO"
      },
      "source": [
        "Beharko ditugun liburutegiak:"
      ]
    },
    {
      "cell_type": "code",
      "source": [
        "from google.colab import drive\n",
        "import numpy as np\n",
        "import pandas as pd\n",
        "from sklearn import metrics, linear_model\n",
        "import matplotlib.pyplot as plt\n",
        "import torch\n",
        "import torch.nn as nn\n",
        "import torch.nn.functional as F\n",
        "from torch.utils.data import TensorDataset, DataLoader\n",
        "import warnings\n",
        "warnings.filterwarnings(\"ignore\", category=UserWarning)\n",
        "import networkx as nx\n",
        "from sklearn.preprocessing import MinMaxScaler\n",
        "import math\n",
        "import random\n",
        "from torch_geometric.data import Data\n",
        "from torch_geometric.nn import GCNConv\n",
        "import torch.nn.functional as F\n",
        "from torch.nn import Linear\n",
        "from torch_geometric.nn import MessagePassing\n",
        "import tensorflow as tf\n",
        "import os\n",
        "os.environ['TORCH'] = torch.__version__\n",
        "os.environ['PYTHONWARNINGS'] = \"ignore\"\n",
        "from scipy.linalg import fractional_matrix_power\n",
        "import csv"
      ],
      "metadata": {
        "id": "BQErCTsnr44t"
      },
      "execution_count": 3,
      "outputs": []
    },
    {
      "cell_type": "markdown",
      "source": [
        "Instalatu beharrekoak:"
      ],
      "metadata": {
        "id": "01R-aJxJ24ih"
      }
    },
    {
      "cell_type": "code",
      "source": [
        "!pip install torch_geometric\n",
        "!pip install pandas\n",
        "!pip install numpy\n",
        "!pip install scipy==1.8.0\n",
        "!pip install networkx"
      ],
      "metadata": {
        "id": "zRiYILIq-k9m"
      },
      "execution_count": null,
      "outputs": []
    },
    {
      "cell_type": "markdown",
      "source": [
        "## **Datuak kargatzen**"
      ],
      "metadata": {
        "id": "WnWuX9a2sIRd"
      }
    },
    {
      "cell_type": "code",
      "source": [
        "drive.mount('/content/drive')"
      ],
      "metadata": {
        "colab": {
          "base_uri": "https://localhost:8080/"
        },
        "id": "VQDwk3xkPFf7",
        "outputId": "b71b8a36-8b62-472f-9c75-3118e2527620"
      },
      "execution_count": 13,
      "outputs": [
        {
          "output_type": "stream",
          "name": "stdout",
          "text": [
            "Drive already mounted at /content/drive; to attempt to forcibly remount, call drive.mount(\"/content/drive\", force_remount=True).\n"
          ]
        }
      ]
    },
    {
      "cell_type": "markdown",
      "source": [
        "## **CSV-ak irakurri eta bakar batean elkartu**"
      ],
      "metadata": {
        "id": "z8NzL5UBCqnV"
      }
    },
    {
      "cell_type": "markdown",
      "source": [
        "BETH datu-multzoa CSV desberdinetan banatuta dago. Beraz, taula hauek batean batu behar dira."
      ],
      "metadata": {
        "id": "QS-frINq2mVY"
      }
    },
    {
      "cell_type": "code",
      "source": [
        "path = '/content/drive/MyDrive/GrAL/DATUAK/ELKARTZEKO'\n",
        "files = [os.path.join(path, file) for file in os.listdir(path)]\n",
        "taula = pd.concat(map(pd.read_csv, files), ignore_index=True)\n",
        "originala = pd.concat(map(pd.read_csv, files), ignore_index=True)"
      ],
      "metadata": {
        "id": "sThxEdchtsLP"
      },
      "execution_count": 14,
      "outputs": []
    },
    {
      "cell_type": "markdown",
      "source": [
        "##**CSV-a moldatu**"
      ],
      "metadata": {
        "id": "MHPz09hspIAD"
      }
    },
    {
      "cell_type": "markdown",
      "source": [
        "Bi taula desberdin erabiliko dira, taula originala, aldaketarik gabekoa, eta moldatutako taula, honek datuak aurreprozesatuta gordeko ditu."
      ],
      "metadata": {
        "id": "h-6MufEa2pEL"
      }
    },
    {
      "cell_type": "code",
      "source": [
        "taula = taula[[\"processId\", \"parentProcessId\", \"userId\", \"eventId\", \"argsNum\", \"returnValue\", \"evil\"]]\n",
        "originala = originala[[\"processId\", \"parentProcessId\", \"userId\", \"eventId\", \"argsNum\", \"returnValue\", \"evil\"]]\n",
        "\n",
        "\n",
        "# Preprocessing\n",
        "taula[\"processId\"] = taula[\"processId\"].map(lambda x: 1 if x in [0, 1, 2] else 0)\n",
        "taula[\"parentProcessId\"] = taula[\"parentProcessId\"].map(lambda x: 1 if x in [0, 1, 2] else 0)\n",
        "taula[\"userId\"] = taula[\"userId\"].map(lambda x: 1 if x < 1000 else 0)\n",
        "taula[\"eventId\"] = taula[\"eventId\"]\n",
        "taula[\"argsNum\"] = taula[\"argsNum\"]\n",
        "taula[\"returnValue\"] = taula[\"returnValue\"].map(lambda x: 0 if x == 0 else (1 if x > 0 else 2))\n",
        "\n",
        "\n",
        "# CSV berriak sortu\n",
        "taula.to_csv('dataset.csv')\n",
        "originala.to_csv('orig_dataset.csv')"
      ],
      "metadata": {
        "id": "JSOh7zDz2EW0"
      },
      "execution_count": 15,
      "outputs": []
    },
    {
      "cell_type": "markdown",
      "source": [
        "## **Sailkapenak egiteko erabiliko diren ezaugarrien zerrenda prestatzeko**"
      ],
      "metadata": {
        "id": "0-bW1hRI1hNb"
      }
    },
    {
      "cell_type": "markdown",
      "source": [
        "Lehendabizi, aurretik prestatutako taula berriak irakurriko dira."
      ],
      "metadata": {
        "id": "59zBpnRA4Fbg"
      }
    },
    {
      "cell_type": "code",
      "source": [
        "# Aurre-prozesatua\n",
        "with open('/content/dataset.csv',newline='') as f:\n",
        "    r = csv.reader(f)\n",
        "    data = [line for line in r]\n",
        "\n",
        "# Originala\n",
        "with open('/content/orig_dataset.csv',newline='') as f:\n",
        "    r2 = csv.reader(f)\n",
        "    data_orig = [line for line in r2]"
      ],
      "metadata": {
        "id": "gUxQasEw1xv8"
      },
      "execution_count": 16,
      "outputs": []
    },
    {
      "cell_type": "markdown",
      "source": [
        "Ondoren, entrenamendurako erabiliko diren ezaugarrien zerrendak prestatuko dira."
      ],
      "metadata": {
        "id": "Yo29fJRg3a9I"
      }
    },
    {
      "cell_type": "code",
      "source": [
        "#################### TRAIN ####################\n",
        "# EZAUGARRIEN ZERRENDA\n",
        "max = 9000\n",
        "kop = 0\n",
        "nodoak = []\n",
        "ezaugarriak = []\n",
        "ertzak = []\n",
        "unekoGur = \"\"\n",
        "unekoUm = \"\"\n",
        "ertzaGehitu = True\n",
        "hasiera = 0\n",
        "ezaugarri_zerrenda = []\n",
        "ertz_zerrenda = []\n",
        "\n",
        "# Entrenamendurako 852 grafo, eta grafo bakoitzak 20 nodo izanda. Guztira 17040 nodo inguru, eta hauetatik 4174 erasotzaileak.\n",
        "for i in range(1, len(data_orig)-2000000):\n",
        "\n",
        "  if len(ezaugarriak) < 20:\n",
        "\n",
        "    ertzaGehitu = True\n",
        "\n",
        "    # PROZESU GURASOA\n",
        "    # Ez bada prozesu gurasoaren identifikatzailea nodoak zerrendan txertatu\n",
        "    if not int(data_orig[i][2]) in nodoak:\n",
        "      nodoak.append(int(data_orig[i][2]))\n",
        "      ezaugarriak.append([-1000.0, -1000.0, -1000.0, -1000.0, -1000.0, -1000.0, 0.0, kop])   # \"-inf\"-ekin erabili ostian, erroreak NaN delako infinito, visualize egitean erroreak.\n",
        "      unekoGur = kop\n",
        "      kop = kop+1\n",
        "    else:     # Prozesu gurasoaren identifikatzailea nodoak zerrendan badago\n",
        "      ind = nodoak.index(int(data_orig[i][2]))\n",
        "      unekoGur = ezaugarriak[ind][7]\n",
        "\n",
        "    # PROZESU UMEA\n",
        "    # Dagoeneko existitzen bada prozesu umea nodoak zerrendan\n",
        "    if int(data_orig[i][1]) in nodoak:\n",
        "      ind = nodoak.index(int(data_orig[i][1]))\n",
        "\n",
        "      if (ezaugarriak[ind][1]==-1000.0):      # Nodoak ez du ezaugarririk prozesu gurasoa izan delako. Ezaugarriak eguneratu beharko dira.\n",
        "        unekoUm = ezaugarriak[ind][7]\n",
        "        ezaugarriak[ind][0] = float(data[i][1])\n",
        "        ezaugarriak[ind][1] = float(data[i][2])\n",
        "        ezaugarriak[ind][2] = float(data[i][3])\n",
        "        ezaugarriak[ind][3] = float(data[i][4])\n",
        "        ezaugarriak[ind][4] = float(data[i][5])\n",
        "        ezaugarriak[ind][5] = float(data[i][6])\n",
        "        ezaugarriak[ind][6] = float(data[i][7])\n",
        "      else:\n",
        "        if (float(data[i][7]) == 1):          # Prozesua erasotzailea da\n",
        "          nodoak.append(kop)\n",
        "          ezaugarriak.append([float(data[i][1]), float(data[i][2]), float(data[i][3]), float(data[i][4]), float(data[i][5]), float(data[i][6]), float(data[i][7]), kop])\n",
        "          unekoUm = kop\n",
        "          # Ausazko ertzak sortzeko\n",
        "          zenbat = random.randint(0, 10)\n",
        "          for i in range(0, zenbat):\n",
        "            zein = random.randint(0, 19)\n",
        "            if (random.randint(0,1) == 0):\n",
        "              if (unekoUm<20 and zein<20):\n",
        "                ertzak.append([unekoUm, zein])\n",
        "            else:\n",
        "              if (unekoUm<20 and zein<20):\n",
        "                ertzak.append([zein, unekoUm])\n",
        "          kop = kop+1\n",
        "\n",
        "        else:           # Prozesua ez da erasotzailea\n",
        "          if max>0:\n",
        "            nodoak.append(kop)\n",
        "            ezaugarriak.append([float(data[i][1]), float(data[i][2]), float(data[i][3]), float(data[i][4]), float(data[i][5]), float(data[i][6]), float(data[i][7]), kop])\n",
        "            unekoUm = kop\n",
        "            max = max-1\n",
        "            # Ausazko ertzak sortzeko\n",
        "            zenbat = random.randint(0, 10)\n",
        "            for i in range(0, zenbat):\n",
        "              zein = random.randint(0, 19)\n",
        "              if (random.randint(0,1) == 0):\n",
        "                if (unekoUm<20 and zein<20):\n",
        "                  ertzak.append([unekoUm, zein])\n",
        "              else:\n",
        "                if (unekoUm<20 and zein<20):\n",
        "                  ertzak.append([zein, unekoUm])\n",
        "            kop = kop+1\n",
        "          else:\n",
        "            ertzaGehitu = False\n",
        "\n",
        "    else:\n",
        "      nodoak.append(int(data_orig[i][1]))\n",
        "      ezaugarriak.append([float(data[i][1]), float(data[i][2]), float(data[i][3]), float(data[i][4]), float(data[i][5]), float(data[i][6]), float(data[i][7]), kop])\n",
        "      unekoUm = kop\n",
        "      kop = kop+1\n",
        "\n",
        "    if ertzaGehitu and unekoGur<20 and unekoUm<20:\n",
        "      ertzak.append([unekoGur, unekoUm])\n",
        "\n",
        "\n",
        "  else:\n",
        "    ezaugarri_zerrenda.append(ezaugarriak)\n",
        "    ertz_zerrenda.append(ertzak)\n",
        "    nodoak = []\n",
        "    ezaugarriak = []\n",
        "    ertzak = []\n",
        "    kop = 0\n",
        "\n"
      ],
      "metadata": {
        "id": "aRuGlMdMy11C"
      },
      "execution_count": 8,
      "outputs": []
    },
    {
      "cell_type": "markdown",
      "source": [
        "Ezaugarrien balioen arteko desberdintasuna hain handia izanik, balio hauek estandarizatu behar dira. Kasu honetan, Scikit-learn liburutegiak eskaintzen duen MinMaxScaler funtzioa erabili da.\n",
        "\n",
        "Jarraian, `Data` objektuak sortzen dira eta zerrenda batean gehitzen dira."
      ],
      "metadata": {
        "id": "1dV0UQS_3oa8"
      }
    },
    {
      "cell_type": "code",
      "source": [
        "scaler = MinMaxScaler()"
      ],
      "metadata": {
        "id": "9_kJYvff04yP"
      },
      "execution_count": 9,
      "outputs": []
    },
    {
      "cell_type": "code",
      "source": [
        "data_zerrenda = []\n",
        "\n",
        "for i in range(0, len(ezaugarri_zerrenda)):\n",
        "  x = []\n",
        "  y = []\n",
        "  edge_index = []\n",
        "\n",
        "  for j in range(0, len(ezaugarri_zerrenda[0])):\n",
        "    x.append([ezaugarri_zerrenda[i][j][0], ezaugarri_zerrenda[i][j][1], ezaugarri_zerrenda[i][j][2], ezaugarri_zerrenda[i][j][3], ezaugarri_zerrenda[i][j][4], ezaugarri_zerrenda[i][j][5]])\n",
        "    y.append(int(ezaugarri_zerrenda[i][j][6]))\n",
        "\n",
        "\n",
        "  new_x = scaler.fit_transform(x)\n",
        "  x = torch.tensor(new_x, dtype=torch.float)\n",
        "  y = torch.tensor(y)\n",
        "  matrix = np.transpose(ertz_zerrenda[i])\n",
        "  matrix = np.vstack(matrix).astype(np.intc)\n",
        "  edge_index = torch.tensor(matrix)\n",
        "  data = Data(x=x, edge_index=edge_index, y=y)\n",
        "  data_zerrenda.append(data)\n"
      ],
      "metadata": {
        "id": "oC3uBZai4gb0"
      },
      "execution_count": 10,
      "outputs": []
    },
    {
      "cell_type": "markdown",
      "source": [
        "Azkenik, probarako erabiliko den ezaugarrien zerrenda prestatuko da."
      ],
      "metadata": {
        "id": "glYe6dW23vSu"
      }
    },
    {
      "cell_type": "code",
      "source": [
        "#################### TEST ####################\n",
        "# EZAUGARRIEN ZERRENDA\n",
        "max = 500\n",
        "kop = 0\n",
        "nodoak = []\n",
        "ezaugarriak = []\n",
        "ertzak = []\n",
        "unekoGur = \"\"\n",
        "unekoUm = \"\"\n",
        "ertzaGehitu = True\n",
        "hasiera = 0\n",
        "ezaugarri_zerrenda = []\n",
        "ertz_zerrenda = []\n",
        "\n",
        "# 824 nodoko grafoa erabiliz, eta nodo hauetatik 106 erasotzaileak izanik.\n",
        "for i in range(len(data_orig)-1550000, len(data_orig)-1399000):\n",
        "\n",
        "  ertzaGehitu = True\n",
        "\n",
        "  # PROZESU GURASOA\n",
        "  # Ez bada prozesu gurasoaren identifikatzailea nodoak zerrendan txertatu\n",
        "  if not int(data_orig[i][2]) in nodoak:\n",
        "    nodoak.append(int(data_orig[i][2]))\n",
        "    ezaugarriak.append([-1000.0, -1000.0, -1000.0, -1000.0, -1000.0, -1000.0, 0.0, kop])   # \"-inf\"-ekin erabili ostian, erroreak NaN delako infinito, visualize egitean erroreak.\n",
        "    unekoGur = kop\n",
        "    kop = kop+1\n",
        "  else:     # Prozesu gurasoaren identifikatzailea nodoak zerrendan badago\n",
        "    ind = nodoak.index(int(data_orig[i][2]))\n",
        "    unekoGur = ezaugarriak[ind][7]\n",
        "\n",
        "  # PROZESU UMEA\n",
        "  # Dagoeneko existitzen bada prozesu umea nodoak zerrendan\n",
        "  if int(data_orig[i][1]) in nodoak:\n",
        "    ind = nodoak.index(int(data_orig[i][1]))\n",
        "\n",
        "    if (ezaugarriak[ind][1]==-1000.0):      # Nodoak ez du ezaugarririk prozesu gurasoa izan delako. Ezaugarriak eguneratu beharko dira.\n",
        "      unekoUm = ezaugarriak[ind][7]\n",
        "      ezaugarriak[ind][0] = float(data[i][1])\n",
        "      ezaugarriak[ind][1] = float(data[i][2])\n",
        "      ezaugarriak[ind][2] = float(data[i][3])\n",
        "      ezaugarriak[ind][3] = float(data[i][4])\n",
        "      ezaugarriak[ind][4] = float(data[i][5])\n",
        "      ezaugarriak[ind][5] = float(data[i][6])\n",
        "      ezaugarriak[ind][6] = float(data[i][7])\n",
        "    else:\n",
        "      if (float(data[i][7]) == 1):          # Prozesua erasotzailea da\n",
        "        nodoak.append(kop)\n",
        "        ezaugarriak.append([float(data[i][1]), float(data[i][2]), float(data[i][3]), float(data[i][4]), float(data[i][5]), float(data[i][6]), float(data[i][7]), kop])\n",
        "        unekoUm = kop\n",
        "        # Ausazko ertzak sortzeko\n",
        "        zenbat = random.randint(0, 10)\n",
        "        for i in range(0, zenbat):\n",
        "          zein = random.randint(0, 19)\n",
        "          if (random.randint(0,1) == 0):\n",
        "              ertzak.append([unekoUm, zein])\n",
        "          else:\n",
        "              ertzak.append([zein, unekoUm])\n",
        "        kop = kop+1\n",
        "\n",
        "      else:           # Prozesua ez da erasotzailea\n",
        "        if max>0:\n",
        "          nodoak.append(kop)\n",
        "          ezaugarriak.append([float(data[i][1]), float(data[i][2]), float(data[i][3]), float(data[i][4]), float(data[i][5]), float(data[i][6]), float(data[i][7]), kop])\n",
        "          unekoUm = kop\n",
        "          max = max-1\n",
        "          # Ausazko ertzak sortzeko\n",
        "          zenbat = random.randint(0, 10)\n",
        "          for i in range(0, zenbat):\n",
        "            zein = random.randint(0, 19)\n",
        "            if (random.randint(0,1) == 0):\n",
        "                ertzak.append([unekoUm, zein])\n",
        "            else:\n",
        "                ertzak.append([zein, unekoUm])\n",
        "          kop = kop+1\n",
        "        else:\n",
        "          ertzaGehitu = False\n",
        "\n",
        "  else:\n",
        "    nodoak.append(int(data_orig[i][1]))\n",
        "    ezaugarriak.append([float(data[i][1]), float(data[i][2]), float(data[i][3]), float(data[i][4]), float(data[i][5]), float(data[i][6]), float(data[i][7]), kop])\n",
        "    unekoUm = kop\n",
        "    kop = kop+1\n",
        "\n",
        "  if ertzaGehitu:\n",
        "    ertzak.append([unekoGur, unekoUm])\n"
      ],
      "metadata": {
        "id": "uKBgfMSbP7YH"
      },
      "execution_count": 17,
      "outputs": []
    },
    {
      "cell_type": "markdown",
      "source": [
        "**x lortzeko:**\n",
        "\n",
        "Grafoaren ezaugarri-matrizea da (hau da, grafoaren nodo bakoitzeko ezaugarriez osatutako zutabeak dituen matrizea).\n",
        "\n",
        "**shape** `[num_nodes, num_node_features]`"
      ],
      "metadata": {
        "id": "cFuhOmQU302L"
      }
    },
    {
      "cell_type": "code",
      "source": [
        "x = []\n",
        "for i in range(0,len(ezaugarriak)):\n",
        "  x.append([ezaugarriak[i][0], ezaugarriak[i][1], ezaugarriak[i][2], ezaugarriak[i][3], ezaugarriak[i][4], ezaugarriak[i][5]])\n",
        "\n",
        "\n",
        "new_x = scaler.fit_transform(x)\n",
        "x = torch.tensor(new_x, dtype=torch.float)"
      ],
      "metadata": {
        "id": "FammumYNUksx"
      },
      "execution_count": 18,
      "outputs": []
    },
    {
      "cell_type": "markdown",
      "source": [
        "**edge_index lortzeko:**\n",
        "\n",
        "Grafoaren konektibitate-matrizea da, COO formatuan. Konektatuta dauden nodoen zerrenda bakarrik gordetzen da, grafoaren auzokide matrize osoa gorde beharrean.\n",
        "\n",
        "**shape** `[2, num_edges]`"
      ],
      "metadata": {
        "id": "XW3U9YCo4HkO"
      }
    },
    {
      "cell_type": "code",
      "source": [
        "matrix = np.transpose(ertzak)\n",
        "matrix = np.vstack(matrix).astype(np.intc)\n",
        "edge_index = torch.tensor(matrix)"
      ],
      "metadata": {
        "id": "Ja74yALpUnkO"
      },
      "execution_count": 19,
      "outputs": []
    },
    {
      "cell_type": "markdown",
      "source": [
        "**y lortzen:**\n",
        "\n",
        "Nodo bakoitzaren etiketa-matrizea da (bi klasetatik nodo bakoitza zeini dagokion adieraziko du)."
      ],
      "metadata": {
        "id": "ivYrDvU04JQu"
      }
    },
    {
      "cell_type": "code",
      "source": [
        "y = []\n",
        "for i in range(0,len(ezaugarriak)):\n",
        "  y.append(int(ezaugarriak[i][6]))\n",
        "\n",
        "y = torch.tensor(y)"
      ],
      "metadata": {
        "id": "jjyTG3A1Unqf"
      },
      "execution_count": 20,
      "outputs": []
    },
    {
      "cell_type": "code",
      "source": [
        "# Zenbat nodo erasotzaile dauden guztira eta indizeak\n",
        "kont = 0\n",
        "indizeak = []\n",
        "for k in range(0, len(y)):\n",
        "  if (y[k]==1):\n",
        "    indizeak.append(k)\n",
        "    kont = kont+1\n",
        "\n",
        "print(\"Kopurua: \", kont)\n",
        "print(\"Indizeak: \", indizeak)"
      ],
      "metadata": {
        "colab": {
          "base_uri": "https://localhost:8080/"
        },
        "id": "fMt1wOnYUxie",
        "outputId": "e245a9f0-10ed-4c6f-9978-ca3119b07fb7"
      },
      "execution_count": 21,
      "outputs": [
        {
          "output_type": "stream",
          "name": "stdout",
          "text": [
            "Kopurua:  106\n",
            "Indizeak:  [715, 719, 720, 721, 722, 723, 724, 725, 726, 727, 728, 729, 730, 731, 732, 733, 734, 735, 736, 737, 738, 739, 740, 741, 742, 743, 744, 745, 746, 747, 748, 749, 750, 751, 752, 753, 754, 755, 756, 757, 758, 759, 760, 761, 762, 763, 764, 765, 766, 767, 768, 769, 770, 771, 772, 773, 774, 775, 776, 777, 778, 779, 780, 781, 782, 783, 784, 785, 786, 787, 788, 789, 790, 791, 792, 793, 794, 795, 796, 797, 798, 799, 800, 801, 802, 803, 804, 805, 806, 807, 808, 809, 810, 811, 812, 813, 814, 815, 816, 817, 818, 819, 820, 821, 822, 823]\n"
          ]
        }
      ]
    },
    {
      "cell_type": "markdown",
      "source": [
        "#### **Data objektua sortzeko**"
      ],
      "metadata": {
        "id": "-BmO_x2Q4QZJ"
      }
    },
    {
      "cell_type": "code",
      "source": [
        "# Data objektua sortzeko\n",
        "from torch_geometric.data import Data\n",
        "\n",
        "data = Data(x=x, edge_index=edge_index, y=y)"
      ],
      "metadata": {
        "id": "39DpIfw8XCKu"
      },
      "execution_count": 22,
      "outputs": []
    },
    {
      "cell_type": "markdown",
      "source": [
        "_________________________________________________________________________________________________________"
      ],
      "metadata": {
        "id": "ccLmIApORqOX"
      }
    },
    {
      "cell_type": "markdown",
      "source": [
        "## **GCN EREDUA**"
      ],
      "metadata": {
        "id": "PtplRFVFC8QZ"
      }
    },
    {
      "cell_type": "markdown",
      "source": [
        "GCN eredua sortzen da, lau GCNConv geruzarekin."
      ],
      "metadata": {
        "id": "9lm11c27jxze"
      }
    },
    {
      "cell_type": "code",
      "source": [
        "class GCN(MessagePassing):\n",
        "\n",
        "    def __init__(self, hidden_channels, num_features, num_classes):\n",
        "        # __init__()-en, klase nagusira deitu behar da bigarren klaseari esleipenak egin aurretik.\n",
        "        super().__init__()\n",
        "\n",
        "        # Ausazko zenbakiak sortzeko hazia ezartzen du. torch.Generator motako objektua itzultzen du.\n",
        "        # PyTorchen ausazkotasuna kontrolatzen laguntzen duen funtzioa da.\n",
        "        torch.manual_seed(42)\n",
        "\n",
        "        # INITIALIZING THE LAYERS\n",
        "        # Lehenengo, GCN geruza kopurua definitzen da.\n",
        "        # Kasu honetan, Message Passing-a burutzeko lau geruza ditu.\n",
        "        # GCN layers (message passing layers)\n",
        "        self.conv1 = GCNConv(num_features, hidden_channels)     # Lehenengo geruza\n",
        "        self.conv2 = GCNConv(hidden_channels, hidden_channels)      # Bigarren geruza\n",
        "        self.conv3 = GCNConv(hidden_channels, hidden_channels)      # Hirugarren geruza\n",
        "        self.conv4 = GCNConv(hidden_channels, hidden_channels)      # Laugarren geruza\n",
        "\n",
        "        # Transformazio lineal bakarra aplikatzen da (torch.nn.Linear), eta honek, sailkatzaile gisa jarduten du (nodoak 0 edo 1 klasean sailkatzeko).\n",
        "        # Output layer, sailkatzailea\n",
        "        self.out = Linear(hidden_channels, num_classes)\n",
        "\n",
        "\n",
        "    # Sarearen konputazio-fluxua definitzeko (forward)\n",
        "    def forward(self, x, edge_index):\n",
        "        h = self.conv1(x, edge_index).relu()      # Lehenengo Message Passing Layer\n",
        "        h = self.conv2(h, edge_index).relu()      # Bigarren Message Passing Layer\n",
        "        h = self.conv3(h, edge_index).relu()      # Hirugarren Message Passing Layer\n",
        "        h = self.conv4(h, edge_index).relu()      # Laugarren Message Passing Layer\n",
        "        out = self.out(h)\n",
        "        return out, h\n"
      ],
      "metadata": {
        "id": "MSRYtVFNDBe9"
      },
      "execution_count": 23,
      "outputs": []
    },
    {
      "cell_type": "code",
      "source": [
        "# num_features --> Nodoen ezaugarriak (data.num_features)\n",
        "# num_classes = 2 (Erasoa edo ez, hau da, nodo bat erasotzailea den edo ez)\n",
        "# Ereduak 16 kanal ezkutu izango ditu.\n",
        "model = GCN(hidden_channels=16, num_features=6, num_classes=2)\n",
        "\n",
        "# Sare-arkitektura definitzeaz gain, CrossEntropyLoss funtzioa definitzen da, eta Adam optimizatzailea hasieratzen da.\n",
        "optimizer = torch.optim.Adam(model.parameters(), lr=0.01) #, weight_decay=5e-4\n",
        "criterion = torch.nn.CrossEntropyLoss()\n",
        "\n",
        "def train():\n",
        "\n",
        "      # model.train() funtzioak, eredua entrenatzen ari dela adierazten du, hau da, ez du eredua entrenatzen, baizik eta modua ezartzen du. Honek, Dropout\n",
        "      # eta BatchNorm bezalako geruzak informatzen laguntzen du, entrenamenduan eta ebaluazioan desberdin jokatzeko diseinatuta baitaude.\n",
        "      # Adibidez, entrenamendu-moduan, BatchNorm-ek batezbesteko mugikor bat eguneratzen du lote berri bakoitzean; ebaluaziorako, berriz, eguneratze horiek\n",
        "      # izoztuta daude.\n",
        "      model.train()\n",
        "\n",
        "      for epoch in range(10):\n",
        "          for i in range(0, len(data_zerrenda)):\n",
        "            optimizer.zero_grad()  # Clear gradients.\n",
        "            out, h = model(data_zerrenda[i].x, data_zerrenda[i].edge_index)  # Perform a single forward pass.\n",
        "            loss = criterion(out, data_zerrenda[i].y)  # Compute the loss solely based on the training nodes.\n",
        "            loss.backward()  # Derive gradients.\n",
        "            optimizer.step()  # Update parameters based on gradients.\n",
        "\n",
        "\n",
        "def test():\n",
        "      model.eval()      # model.eval() erabiltzean ereduari adierazten zaio ez dela ezer berririk ikasi behar, eta eredua probatzeko erabiltzen da.\n",
        "      out, h = model(data.x, data.edge_index)\n",
        "      pred = out.argmax(dim=1)  # Use the class with highest probability.\n",
        "      test_correct = pred == data.y  # Check against ground-truth labels.\n",
        "      return pred, data.y, test_correct.sum()"
      ],
      "metadata": {
        "id": "8btvAWZfmu1B"
      },
      "execution_count": 24,
      "outputs": []
    },
    {
      "cell_type": "markdown",
      "source": [
        "#### **TRAIN**"
      ],
      "metadata": {
        "id": "0a6g5TDN5Ap2"
      }
    },
    {
      "cell_type": "code",
      "source": [
        "# Eredua entrenatzen da\n",
        "train()"
      ],
      "metadata": {
        "id": "5n1fbY2h7jvy"
      },
      "execution_count": 25,
      "outputs": []
    },
    {
      "cell_type": "markdown",
      "source": [
        "#### **TEST**"
      ],
      "metadata": {
        "id": "lXxqeTfa5FnU"
      }
    },
    {
      "cell_type": "code",
      "source": [
        "# Eredua probatzen da\n",
        "pred, actual, test_correct = test()\n",
        "\n",
        "# Test-aren konfusio-matrizea\n",
        "confusion_matrix = metrics.confusion_matrix(actual, pred)\n",
        "cm_display = metrics.ConfusionMatrixDisplay(confusion_matrix = confusion_matrix, display_labels = [False, True])\n",
        "cm_display.plot()\n",
        "plt.show()"
      ],
      "metadata": {
        "colab": {
          "base_uri": "https://localhost:8080/",
          "height": 449
        },
        "id": "iyCQXOW99nxn",
        "outputId": "fe37698c-064b-402c-d222-1d57529db3c3"
      },
      "execution_count": 26,
      "outputs": [
        {
          "output_type": "display_data",
          "data": {
            "text/plain": [
              "<Figure size 640x480 with 2 Axes>"
            ],
            "image/png": "[encoded data removed]"
          },
          "metadata": {}
        }
      ]
    },
    {
      "cell_type": "code",
      "source": [
        "# Precision balioek adierazten dute negatibotzat, edo 0 klasean, sailkatu diren datuen artetik zenbat sailkatu direla ondo, eta positibotzat, edo 1 klasean,\n",
        "# sailkatu diren datuen artetik zenbat sailkatu direla ondo.\n",
        "metrics.precision_score(actual, pred, average=None)"
      ],
      "metadata": {
        "colab": {
          "base_uri": "https://localhost:8080/"
        },
        "id": "5pa80vrv2LgG",
        "outputId": "59f37083-cc10-4608-db23-fb1c17fdb975"
      },
      "execution_count": null,
      "outputs": [
        {
          "output_type": "execute_result",
          "data": {
            "text/plain": [
              "array([0.87135922, 0.        ])"
            ]
          },
          "metadata": {},
          "execution_count": 57
        }
      ]
    },
    {
      "cell_type": "code",
      "source": [
        "# Recall balioek adierazten dute ereduak egiazko negatiboak eta egiazko positiboak identifikatzeko gaitasuna.\n",
        "metrics.recall_score(actual, pred, average=None)"
      ],
      "metadata": {
        "colab": {
          "base_uri": "https://localhost:8080/"
        },
        "id": "xs0TyFiE2oRG",
        "outputId": "e62f0ed1-7feb-4099-ba79-f0531d1bf3e9"
      },
      "execution_count": null,
      "outputs": [
        {
          "output_type": "execute_result",
          "data": {
            "text/plain": [
              "array([1., 0.])"
            ]
          },
          "metadata": {},
          "execution_count": 58
        }
      ]
    },
    {
      "cell_type": "code",
      "source": [
        "# F1 balioak\n",
        "metrics.f1_score(actual, pred, average=None)"
      ],
      "metadata": {
        "colab": {
          "base_uri": "https://localhost:8080/"
        },
        "id": "SJoKHBaRCKU-",
        "outputId": "8070946a-f632-4b61-96a0-933b5da416f9"
      },
      "execution_count": null,
      "outputs": [
        {
          "output_type": "execute_result",
          "data": {
            "text/plain": [
              "array([0.93125811, 0.        ])"
            ]
          },
          "metadata": {},
          "execution_count": 60
        }
      ]
    }
  ]
}