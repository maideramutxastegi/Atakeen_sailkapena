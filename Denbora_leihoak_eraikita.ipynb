{
  "nbformat": 4,
  "nbformat_minor": 0,
  "metadata": {
    "colab": {
      "provenance": []
    },
    "kernelspec": {
      "name": "python3",
      "display_name": "Python 3"
    },
    "language_info": {
      "name": "python"
    }
  },
  "cells": [
    {
      "cell_type": "markdown",
      "metadata": {
        "id": "owMUhlsxLSKC"
      },
      "source": [
        "# **Grafoak osatzeko, denbora leihoak eraikita**"
      ]
    },
    {
      "cell_type": "markdown",
      "metadata": {
        "id": "_jffC_yGNxlO"
      },
      "source": [
        "Beharko ditugun liburutegiak:"
      ]
    },
    {
      "cell_type": "code",
      "source": [
        "from google.colab import drive\n",
        "import pandas as pd\n",
        "import csv"
      ],
      "metadata": {
        "id": "yGt0jPtd6Uyc"
      },
      "execution_count": 1,
      "outputs": []
    },
    {
      "cell_type": "markdown",
      "source": [
        "Instalatu beharrekoak:"
      ],
      "metadata": {
        "id": "p8-sUjaI8vEP"
      }
    },
    {
      "cell_type": "code",
      "source": [
        "!pip install pandas"
      ],
      "metadata": {
        "id": "Kns-mziYjbft"
      },
      "execution_count": null,
      "outputs": []
    },
    {
      "cell_type": "markdown",
      "source": [
        "## **Datuak kargatzen**"
      ],
      "metadata": {
        "id": "WnWuX9a2sIRd"
      }
    },
    {
      "cell_type": "code",
      "source": [
        "drive.mount('/content/drive')"
      ],
      "metadata": {
        "colab": {
          "base_uri": "https://localhost:8080/"
        },
        "id": "VQDwk3xkPFf7",
        "outputId": "679d8c53-5251-4543-a212-2190106ef61a"
      },
      "execution_count": 2,
      "outputs": [
        {
          "output_type": "stream",
          "name": "stdout",
          "text": [
            "Mounted at /content/drive\n"
          ]
        }
      ]
    },
    {
      "cell_type": "markdown",
      "source": [
        "## **CSV-a aldatu**"
      ],
      "metadata": {
        "id": "z8NzL5UBCqnV"
      }
    },
    {
      "cell_type": "code",
      "source": [
        "# BETH datu-multzoko taula bat kargatzen da.\n",
        "taula1 = pd.read_csv('/content/drive/MyDrive/GrAL/DATUAK/labelled_2021may-ip-10-100-1-105.csv')"
      ],
      "metadata": {
        "id": "4-MYTH3oC0Kr"
      },
      "execution_count": 3,
      "outputs": []
    },
    {
      "cell_type": "code",
      "source": [
        "# Bikoiztutako datuak kontutan ez izateko:\n",
        "t1 = taula1[['processId','parentProcessId']].drop_duplicates()"
      ],
      "metadata": {
        "id": "JhifGDdfC0Tc"
      },
      "execution_count": 4,
      "outputs": []
    },
    {
      "cell_type": "code",
      "source": [
        "# Moldatutako csv-a gordetzeko:\n",
        "t1.to_csv('taula1.csv')"
      ],
      "metadata": {
        "id": "LrpqhS2rC0c7"
      },
      "execution_count": 6,
      "outputs": []
    },
    {
      "cell_type": "markdown",
      "source": [
        "## **Sortutako CSV-a zatitu, grafoak osatzeko**"
      ],
      "metadata": {
        "id": "OqVNSAzDu2o3"
      }
    },
    {
      "cell_type": "code",
      "source": [
        "# CSV-a errenkadaka irakurtzeko\n",
        "with open('/content/taula1.csv',newline='') as f:\n",
        "    r = csv.reader(f)\n",
        "    data = [line for line in r]"
      ],
      "metadata": {
        "id": "3b2Ll2HKu7n7"
      },
      "execution_count": 8,
      "outputs": []
    },
    {
      "cell_type": "markdown",
      "source": [
        "Ondoren, kargatutako taula zatitzen da CSV txikiagoetan. Taula hauek, grafoak sortzeko erabiliko dira.\n",
        "\n",
        "Grafoak sortzeko, Gephi tresna erabiliko da."
      ],
      "metadata": {
        "id": "K79K6Funkld-"
      }
    },
    {
      "cell_type": "code",
      "source": [
        "# TEILAKATZERIK GABE, 10naka\n",
        "kont = 1\n",
        "csv = []\n",
        "unekoArraya = []\n",
        "zenb = 1\n",
        "\n",
        "for i in range(1, len(data)-1):\n",
        "  unekoArraya.append([data[i][1], data[i][2]])\n",
        "  kont = kont+1\n",
        "\n",
        "  if (kont==11):\n",
        "    kont=1\n",
        "    string = str(zenb)\n",
        "    zenb = zenb+1\n",
        "    izen = 'taula1_' + string + '.xlsx'\n",
        "    df = pd.DataFrame(unekoArraya, index=[0,1,2,3,4,5,6,7,8,9], columns=['source', 'target'])\n",
        "    df.to_excel(izen)\n",
        "    unekoArraya = []"
      ],
      "metadata": {
        "id": "4S3HaXY9w34v"
      },
      "execution_count": 9,
      "outputs": []
    },
    {
      "cell_type": "code",
      "source": [
        "# TEILAKATZEEKIN, 10naka\n",
        "unekoArraya = []\n",
        "zenb = 1\n",
        "i = 5\n",
        "max = len(data)-1\n",
        "\n",
        "while i<=max-5:\n",
        "  for j in range(4, -1, -1):\n",
        "    unekoArraya.append([data[i-j][1], data[i-j][2]])\n",
        "\n",
        "  for k in range(1,5+1):\n",
        "    unekoArraya.append([data[i+k][1], data[i+k][2]])\n",
        "\n",
        "  string = str(zenb)\n",
        "  zenb = zenb+1\n",
        "  izen = 'taula1_10teilakatuta_' + string + '.xlsx'\n",
        "  df = pd.DataFrame(unekoArraya, index=[0,1,2,3,4,5,6,7,8,9], columns=['source', 'target'])\n",
        "  df.to_excel(izen)\n",
        "  unekoArraya = []\n",
        "\n",
        "  i += 5"
      ],
      "metadata": {
        "id": "8CJRCxM3INUf"
      },
      "execution_count": 10,
      "outputs": []
    },
    {
      "cell_type": "code",
      "source": [
        "# TEILAKATZEEKIN, 20naka\n",
        "unekoArraya = []\n",
        "zenb = 1\n",
        "i = 10\n",
        "max = len(data)-1\n",
        "\n",
        "while i<=max-10:\n",
        "  for j in range(9, -1, -1):\n",
        "    unekoArraya.append([data[i-j][1], data[i-j][2]])\n",
        "\n",
        "  for k in range(1,10+1):\n",
        "    unekoArraya.append([data[i+k][1], data[i+k][2]])\n",
        "\n",
        "  string = str(zenb)\n",
        "  zenb = zenb+1\n",
        "  izen = 'taula1_20teilakatuta_' + string + '.xlsx'\n",
        "  df = pd.DataFrame(unekoArraya, index=[0,1,2,3,4,5,6,7,8,9,10,11,12,13,14,15,16,17,18,19], columns=['source', 'target'])\n",
        "  df.to_excel(izen)\n",
        "  unekoArraya = []\n",
        "\n",
        "  i += 10"
      ],
      "metadata": {
        "id": "o6yEkMOrJbbc"
      },
      "execution_count": 11,
      "outputs": []
    }
  ]
}